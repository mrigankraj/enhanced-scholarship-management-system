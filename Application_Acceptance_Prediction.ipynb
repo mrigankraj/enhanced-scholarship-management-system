{
  "nbformat": 4,
  "nbformat_minor": 0,
  "metadata": {
    "colab": {
      "provenance": [],
      "authorship_tag": "ABX9TyMrm+K77nSbzcLnokXexYY2",
      "include_colab_link": true
    },
    "kernelspec": {
      "name": "python3",
      "display_name": "Python 3"
    },
    "language_info": {
      "name": "python"
    }
  },
  "cells": [
    {
      "cell_type": "markdown",
      "metadata": {
        "id": "view-in-github",
        "colab_type": "text"
      },
      "source": [
        "<a href=\"https://colab.research.google.com/github/mrigankraj/enhanced-scholarship-management-system/blob/main/Application_Acceptance_Prediction.ipynb\" target=\"_parent\"><img src=\"https://colab.research.google.com/assets/colab-badge.svg\" alt=\"Open In Colab\"/></a>"
      ]
    },
    {
      "cell_type": "code",
      "execution_count": 3,
      "metadata": {
        "colab": {
          "base_uri": "https://localhost:8080/"
        },
        "id": "DF4xkyEWOioV",
        "outputId": "94fe3893-e7f2-4bef-d098-f5ab49c85417"
      },
      "outputs": [
        {
          "output_type": "stream",
          "name": "stdout",
          "text": [
            "Dataset created and saved as 'scholarship_data.csv'\n"
          ]
        }
      ],
      "source": [
        "#Creation of dataset scholarship_data.csv\n",
        "#This dataset will be used to train the random forest ml model later\n",
        "\n",
        "import pandas as pd\n",
        "import numpy as np\n",
        "\n",
        "# Set random seed for reproducibility\n",
        "np.random.seed(42)\n",
        "\n",
        "# Number of samples\n",
        "n_samples = 1000\n",
        "\n",
        "# Generate synthetic data\n",
        "GPA = np.round(np.random.uniform(2.0, 4.0, n_samples), 2)\n",
        "TestScores = np.random.randint(200, 800, n_samples)\n",
        "Extracurricular = np.random.choice(['Yes', 'No'], n_samples)\n",
        "FinancialNeed = np.random.choice(['Low', 'Medium', 'High'], n_samples)\n",
        "EssayScore = np.round(np.random.uniform(4.0, 10.0, n_samples), 1)\n",
        "\n",
        "# Random acceptance logic (for simplicity)\n",
        "Accepted = (GPA > 3.0) & (TestScores > 500) & (EssayScore > 6.0)\n",
        "Accepted = Accepted.astype(int)\n",
        "\n",
        "# Create a DataFrame\n",
        "data = pd.DataFrame({\n",
        "    'GPA': GPA,\n",
        "    'TestScores': TestScores,\n",
        "    'Extracurricular': Extracurricular,\n",
        "    'FinancialNeed': FinancialNeed,\n",
        "    'EssayScore': EssayScore,\n",
        "    'Accepted': Accepted\n",
        "})\n",
        "\n",
        "# Save the dataset to a CSV file\n",
        "data.to_csv('scholarship_data.csv', index=False)\n",
        "\n",
        "print(\"Dataset created and saved as 'scholarship_data.csv'\")\n"
      ]
    },
    {
      "cell_type": "code",
      "source": [
        "import pandas as pd\n",
        "from sklearn.model_selection import train_test_split\n",
        "from sklearn.ensemble import RandomForestClassifier\n",
        "from sklearn.metrics import accuracy_score, confusion_matrix, classification_report\n",
        "from sklearn.preprocessing import StandardScaler\n",
        "\n",
        "# Load the dataset\n",
        "data = pd.read_csv('scholarship_data.csv')\n",
        "\n",
        "# Feature selection\n",
        "features = ['GPA', 'TestScores', 'Extracurricular', 'FinancialNeed', 'EssayScore']\n",
        "X = data[features]\n",
        "y = data['Accepted']  # Target variable\n",
        "\n",
        "# Convert categorical variables to numerical\n",
        "X = pd.get_dummies(X, columns=['Extracurricular', 'FinancialNeed'], drop_first=True)\n",
        "\n",
        "# Split data into training and testing sets\n",
        "X_train, X_test, y_train, y_test = train_test_split(X, y, test_size=0.2, random_state=42)\n",
        "\n",
        "# Feature scaling\n",
        "scaler = StandardScaler()\n",
        "X_train = scaler.fit_transform(X_train)\n",
        "X_test = scaler.transform(X_test)\n",
        "\n",
        "# Initialize and train the Random Forest model\n",
        "rf_model = RandomForestClassifier(n_estimators=100, random_state=42)\n",
        "rf_model.fit(X_train, y_train)\n",
        "\n",
        "# Predict on the test set\n",
        "y_pred = rf_model.predict(X_test)\n",
        "\n",
        "# Evaluate the model's performance\n",
        "accuracy = accuracy_score(y_test, y_pred)\n",
        "conf_matrix = confusion_matrix(y_test, y_pred)\n",
        "class_report = classification_report(y_test, y_pred)\n",
        "\n",
        "print(f\"Accuracy: {accuracy:.2f}\")\n",
        "print(\"Confusion Matrix:\")\n",
        "print(conf_matrix)\n",
        "print(\"Classification Report:\")\n",
        "print(class_report)\n",
        "\n",
        "# Feature Importances (Optional)\n",
        "importances = rf_model.feature_importances_\n",
        "feature_names = X.columns\n",
        "feature_importances = pd.Series(importances, index=feature_names).sort_values(ascending=False)\n",
        "\n",
        "print(\"Feature Importances:\")\n",
        "print(feature_importances)\n"
      ],
      "metadata": {
        "colab": {
          "base_uri": "https://localhost:8080/"
        },
        "id": "4q6eyHCkO4IG",
        "outputId": "9e0fc1b1-099a-460b-861d-ced261b2f6ef"
      },
      "execution_count": 4,
      "outputs": [
        {
          "output_type": "stream",
          "name": "stdout",
          "text": [
            "Accuracy: 1.00\n",
            "Confusion Matrix:\n",
            "[[161   0]\n",
            " [  0  39]]\n",
            "Classification Report:\n",
            "              precision    recall  f1-score   support\n",
            "\n",
            "           0       1.00      1.00      1.00       161\n",
            "           1       1.00      1.00      1.00        39\n",
            "\n",
            "    accuracy                           1.00       200\n",
            "   macro avg       1.00      1.00      1.00       200\n",
            "weighted avg       1.00      1.00      1.00       200\n",
            "\n",
            "Feature Importances:\n",
            "TestScores              0.379245\n",
            "GPA                     0.374022\n",
            "EssayScore              0.234085\n",
            "FinancialNeed_Medium    0.004951\n",
            "Extracurricular_Yes     0.004361\n",
            "FinancialNeed_Low       0.003337\n",
            "dtype: float64\n"
          ]
        }
      ]
    }
  ]
}